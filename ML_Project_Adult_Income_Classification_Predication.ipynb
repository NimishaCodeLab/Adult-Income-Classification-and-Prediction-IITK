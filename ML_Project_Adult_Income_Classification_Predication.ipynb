{
  "nbformat": 4,
  "nbformat_minor": 0,
  "metadata": {
    "colab": {
      "provenance": []
    },
    "kernelspec": {
      "name": "python3",
      "display_name": "Python 3"
    },
    "language_info": {
      "name": "python"
    }
  },
  "cells": [
    {
      "cell_type": "markdown",
      "source": [
        "#Objective: Prediction task is to determine whether a person makes over 50K a year."
      ],
      "metadata": {
        "id": "NIAFttjalGSd"
      }
    },
    {
      "cell_type": "markdown",
      "source": [
        "**Adult Income DataSet Description**\n",
        "*****************************************************\n",
        "**A). Number of Instances :-**\n",
        "   48842 instances, mix of continuous and discrete\n",
        "*****************************************************\n",
        "\n",
        "**B). Number of Attributes :-**\n",
        "   6 continuous, 8 nominal attributes.\n",
        "*****************************************************\n",
        "\n",
        "**C). Attribute Information:**\n",
        "\n",
        "    1) age: continuous.\n",
        "    2) workclass: Private, Self-emp-not-inc, Self-emp-inc, Federal-gov, Local-gov, State-gov, Without-pay, Never-worked.\n",
        "    3) fnlwgt: continuous.\n",
        "    4) education: Bachelors, Some-college, 11th, HS-grad, Prof-school, Assoc-acdm, Assoc-voc, 9th, 7th-8th, 12th, Masters, 1st-4th, 10th, Doctorate, 5th-6th, Preschool.\n",
        "    5) education-num: continuous.\n",
        "    6) marital-status: Married-civ-spouse, Divorced, Never-married, Separated, Widowed, Married-spouse-absent, Married-AF-spouse.\n",
        "    7) occupation: Tech-support, Craft-repair, Other-service, Sales, Exec-managerial, Prof-specialty, Handlers-cleaners, Machine-op-inspct, Adm-clerical, Farming-fishing, Transport-moving, Priv-house-serv, Protective-serv, Armed-Forces.\n",
        "    8) relationship: Wife, Own-child, Husband, Not-in-family, Other-relative, Unmarried.\n",
        "    9) race: White, Asian-Pac-Islander, Amer-Indian-Eskimo, Other, Black.\n",
        "    10)sex: Female, Male.\n",
        "    11)capital-gain: continuous.\n",
        "    12)capital-loss: continuous.\n",
        "    13)hours-per-week: continuous.\n",
        "    14)native-country: United-States, Cambodia, England, Puerto-Rico, Canada, Germany, Outlying-US(Guam-USVI-etc), India, Japan, Greece, South, China, Cuba, Iran, Honduras, Philippines, Italy, Poland, Jamaica, Vietnam, Mexico, Portugal, Ireland, France, Dominican-Republic, Laos, Ecuador, Taiwan, Haiti, Columbia, Hungary, Guatemala, Nicaragua, Scotland, Thailand, Yugoslavia, El-Salvador, Trinadad&Tobago, Peru, Hong, Holand-Netherlands.\n",
        "    15)class: >50K, <=50K\n",
        "\n",
        "*****************************************************\n",
        "**D. Missing Attribute Values:**\n",
        "   7% have missing values\n"
      ],
      "metadata": {
        "id": "9V3Wan3zlLE9"
      }
    },
    {
      "cell_type": "markdown",
      "source": [
        "#Step-1 : Import the required libraries"
      ],
      "metadata": {
        "id": "jiNhsbPSl13O"
      }
    },
    {
      "cell_type": "code",
      "execution_count": 5,
      "metadata": {
        "id": "MR9HhJLMLu14"
      },
      "outputs": [],
      "source": [
        "import pandas as pd\n",
        "import numpy as np\n",
        "import matplotlib.pyplot as plt\n",
        "import seaborn as sns\n",
        "from sklearn.preprocessing import LabelEncoder,MinMaxScaler\n",
        "from sklearn.model_selection import train_test_split\n",
        "from sklearn.metrics import accuracy_score,confusion_matrix\n",
        "from sklearn.tree import DecisionTreeClassifier\n",
        "from sklearn.linear_model import  LogisticRegression\n",
        "from sklearn.neighbors import KNeighborsClassifier\n",
        "from sklearn.ensemble import RandomForestClassifier\n",
        "from sklearn.svm import SVC"
      ]
    },
    {
      "cell_type": "markdown",
      "source": [
        "#Step-2: Read the adult income dataset"
      ],
      "metadata": {
        "id": "E8lkGHMumETc"
      }
    },
    {
      "cell_type": "code",
      "source": [
        "data=pd.read_csv(\"adult_income_dataset.csv\")"
      ],
      "metadata": {
        "id": "o5zzUSp5Mhuw"
      },
      "execution_count": 18,
      "outputs": []
    },
    {
      "cell_type": "markdown",
      "source": [
        "#Step-3: Exploratory Data Analytics"
      ],
      "metadata": {
        "id": "knOtQxmvmcll"
      }
    },
    {
      "cell_type": "code",
      "source": [
        "print(\"data.shape = \", data.shape)"
      ],
      "metadata": {
        "colab": {
          "base_uri": "https://localhost:8080/"
        },
        "id": "VvbvSCicmORs",
        "outputId": "3429c6cb-f663-4885-fa90-00e040be8988"
      },
      "execution_count": 7,
      "outputs": [
        {
          "output_type": "stream",
          "name": "stdout",
          "text": [
            "data.shape =  (9615, 15)\n"
          ]
        }
      ]
    },
    {
      "cell_type": "code",
      "source": [
        "print(\"Info about dataset\\n\", data.info() )"
      ],
      "metadata": {
        "id": "QXK-vZSWmjSG"
      },
      "execution_count": null,
      "outputs": []
    },
    {
      "cell_type": "code",
      "source": [
        "#print first 10 rows of dataset\n",
        "print(\"First 10 rows : \\n\")\n",
        "data.head(10)"
      ],
      "metadata": {
        "id": "D1o1zZCfmpEs"
      },
      "execution_count": null,
      "outputs": []
    },
    {
      "cell_type": "code",
      "source": [
        "print(\"data.describe() = \\n\" )\n",
        "data.describe()"
      ],
      "metadata": {
        "id": "yu7CEzN1msQs"
      },
      "execution_count": null,
      "outputs": []
    },
    {
      "cell_type": "code",
      "source": [
        "print(\"data.describe(include='object') = \\n\" )\n",
        "data.describe(include='object')"
      ],
      "metadata": {
        "id": "XeTsEd7GmsEd"
      },
      "execution_count": null,
      "outputs": []
    },
    {
      "cell_type": "code",
      "source": [
        "print(\"data.income.unique() = \\n\" )\n",
        "data.income.unique()"
      ],
      "metadata": {
        "id": "fv3cijz2mr5U"
      },
      "execution_count": null,
      "outputs": []
    },
    {
      "cell_type": "code",
      "source": [
        "#data.income=data.income.replace(['<=50K', '>50K'],[0,1])\n",
        "sns.countplot(data=data, x=\"income\")\n",
        "plt.show()"
      ],
      "metadata": {
        "id": "TgVYC5zomrq1"
      },
      "execution_count": null,
      "outputs": []
    },
    {
      "cell_type": "markdown",
      "source": [
        "#Feature Analysis and Vizualization"
      ],
      "metadata": {
        "id": "ZDjeBVoVuDdz"
      }
    },
    {
      "cell_type": "markdown",
      "source": [
        "##Vizualization-01: Income vs Age"
      ],
      "metadata": {
        "id": "o6bEE4hxujjl"
      }
    },
    {
      "cell_type": "code",
      "source": [
        "print(\"data.age.unique() = \\n\", data.age.unique())"
      ],
      "metadata": {
        "colab": {
          "base_uri": "https://localhost:8080/"
        },
        "id": "xbqGxiP6t_wj",
        "outputId": "dade61c5-d098-4b44-8d92-50076696c347"
      },
      "execution_count": 21,
      "outputs": [
        {
          "output_type": "stream",
          "name": "stdout",
          "text": [
            "data.age.unique() = \n",
            " [25 38 28 44 18 34 29 63 24 55 65 36 26 58 48 43 20 37 40 72 45 22 23 54\n",
            " 32 46 56 17 39 52 21 42 33 30 47 41 19 69 50 31 59 49 51 27 57 61 64 79\n",
            " 73 53 77 80 62 35 68 66 75 60 67 71 70 90 81 74 78 82 83 85 76 84 89]\n"
          ]
        }
      ]
    },
    {
      "cell_type": "code",
      "source": [
        "#sns.boxplot(data.income, data.age)\n",
        "sns.boxplot(x=\"income\", y=\"age\", data=data)\n",
        "plt.show()"
      ],
      "metadata": {
        "id": "Afo6jgN8uIab"
      },
      "execution_count": null,
      "outputs": []
    },
    {
      "cell_type": "markdown",
      "source": [
        "##Vizualization-02:  Income vs fnlwgt"
      ],
      "metadata": {
        "id": "igb0pF_juzgj"
      }
    },
    {
      "cell_type": "code",
      "source": [
        "#sns.boxplot(data.income,data['fnlwgt'])\n",
        "sns.boxplot(x=\"income\", y=\"fnlwgt\", data=data)\n",
        "plt.show()"
      ],
      "metadata": {
        "id": "9QMiuX_7uqh9"
      },
      "execution_count": null,
      "outputs": []
    },
    {
      "cell_type": "markdown",
      "source": [
        "##Vizualization-03:  Income vs educational-num"
      ],
      "metadata": {
        "id": "8e-zzY8Uu7fz"
      }
    },
    {
      "cell_type": "code",
      "source": [
        "#sns.boxplot(data.income,data['educational-num'])\n",
        "sns.boxplot(x=\"income\", y=\"educational-num\", data=data)\n",
        "plt.show()"
      ],
      "metadata": {
        "id": "VwaC58mJu5Mi"
      },
      "execution_count": null,
      "outputs": []
    },
    {
      "cell_type": "markdown",
      "source": [
        "##Vizualization-04:  Income vs capital-gain"
      ],
      "metadata": {
        "id": "F3_LYtFUu_3j"
      }
    },
    {
      "cell_type": "code",
      "source": [
        "#sns.boxplot(data.income,data['capital-gain'])\n",
        "sns.boxplot(x=\"income\", y=\"capital-gain\", data=data)\n",
        "plt.show()"
      ],
      "metadata": {
        "id": "C_H6U4JxvCtT"
      },
      "execution_count": null,
      "outputs": []
    },
    {
      "cell_type": "markdown",
      "source": [
        "##Vizualization-05:  Income vs capital-loss"
      ],
      "metadata": {
        "id": "tL9JOpNevGpU"
      }
    },
    {
      "cell_type": "code",
      "source": [
        "#sns.boxplot(data.income,data['capital-loss'])\n",
        "sns.boxplot(x=\"income\", y=\"capital-loss\", data=data)\n",
        "plt.show()"
      ],
      "metadata": {
        "id": "jTdVet9HvJjM"
      },
      "execution_count": null,
      "outputs": []
    },
    {
      "cell_type": "markdown",
      "source": [
        "##Vizualization-06:  Income vs capital-loss"
      ],
      "metadata": {
        "id": "5KnE1Q9evLmq"
      }
    },
    {
      "cell_type": "code",
      "source": [
        "#sns.boxplot(data.income,data['capital-loss'])\n",
        "sns.boxplot(x=\"income\", y=\"capital-loss\", data=data)\n",
        "plt.show()"
      ],
      "metadata": {
        "id": "aR8uTM8FvOW6"
      },
      "execution_count": null,
      "outputs": []
    },
    {
      "cell_type": "markdown",
      "source": [
        "##Vizualization-07:  Income vs hours-per-week"
      ],
      "metadata": {
        "id": "EESJP-hCvSST"
      }
    },
    {
      "cell_type": "code",
      "source": [
        "#sns.boxplot(data.income,data['hours-per-week'])\n",
        "sns.boxplot(x=\"income\", y=\"hours-per-week\", data=data)\n",
        "plt.show()"
      ],
      "metadata": {
        "id": "NmA8pPG7vU1L"
      },
      "execution_count": null,
      "outputs": []
    },
    {
      "cell_type": "markdown",
      "source": [
        "##Print the details for missing values"
      ],
      "metadata": {
        "id": "2N8_RxNTvXt7"
      }
    },
    {
      "cell_type": "code",
      "source": [
        "data.isnull().sum()"
      ],
      "metadata": {
        "id": "WjdOi1H6vd0W"
      },
      "execution_count": null,
      "outputs": []
    },
    {
      "cell_type": "markdown",
      "source": [
        "##Remove the missing values if any"
      ],
      "metadata": {
        "id": "aCoIsaQIvkhE"
      }
    },
    {
      "cell_type": "code",
      "source": [
        "data=data.dropna()"
      ],
      "metadata": {
        "id": "--_DI_bSvikD"
      },
      "execution_count": 31,
      "outputs": []
    },
    {
      "cell_type": "markdown",
      "source": [
        "##Replace the income class with numeric values\n"
      ],
      "metadata": {
        "id": "mQxd-CYzvr9b"
      }
    },
    {
      "cell_type": "code",
      "source": [
        "#a) Replace \"<=50K\" with  0\n",
        "#b) Replace \">50K\"  with  1\n",
        "\n",
        "data.income=data.income.replace(['<=50K', '>50K'],[0,1])"
      ],
      "metadata": {
        "id": "NuZDTuRGv3ua"
      },
      "execution_count": 30,
      "outputs": []
    },
    {
      "cell_type": "markdown",
      "source": [
        "##Vizualization-08: Print correlation matrix via heatmap"
      ],
      "metadata": {
        "id": "9Vyuh25jv_7y"
      }
    },
    {
      "cell_type": "code",
      "source": [
        "plt.figure(figsize=(7,6))\n",
        "sns.heatmap(data.corr(),annot=True,cmap='Blues')\n",
        "plt.show()"
      ],
      "metadata": {
        "id": "xcmjpKCvwBRT"
      },
      "execution_count": null,
      "outputs": []
    },
    {
      "cell_type": "markdown",
      "source": [
        "##Vizualization-09: workclass vs income"
      ],
      "metadata": {
        "id": "ST-6NEsDwJAK"
      }
    },
    {
      "cell_type": "code",
      "source": [
        "#print unique values in the column \"workclass\"\n",
        "print(\"data.workclass.unique() = \\n\", data.workclass.unique() )"
      ],
      "metadata": {
        "colab": {
          "base_uri": "https://localhost:8080/"
        },
        "id": "wb1VMpl5wKjc",
        "outputId": "ea4ab96b-f4d8-4f75-9d4b-3fe6eaf9e09a"
      },
      "execution_count": 33,
      "outputs": [
        {
          "output_type": "stream",
          "name": "stdout",
          "text": [
            "data.workclass.unique() = \n",
            " ['Private' 'Local-gov' '?' 'Self-emp-not-inc' 'Federal-gov' 'State-gov'\n",
            " 'Self-emp-inc' 'Without-pay' 'Never-worked']\n"
          ]
        }
      ]
    },
    {
      "cell_type": "code",
      "source": [
        "plt.figure(figsize=(15,7))\n",
        "ax=sns.countplot(data=data, x=\"workclass\", hue=data.income)\n",
        "plt.legend(['<=50K', '>50K'])\n",
        "plt.show()"
      ],
      "metadata": {
        "id": "Jee1tHN9wTtD"
      },
      "execution_count": null,
      "outputs": []
    },
    {
      "cell_type": "markdown",
      "source": [
        "##Vizualization-10: education vs income"
      ],
      "metadata": {
        "id": "9apFoIKHwjsr"
      }
    },
    {
      "cell_type": "code",
      "source": [
        "#print unique values in the column \"education\"\n",
        "print(\"data.education.unique() =\\n\",  data.education.unique() )"
      ],
      "metadata": {
        "id": "xyd0U0Hqwn6N"
      },
      "execution_count": null,
      "outputs": []
    },
    {
      "cell_type": "code",
      "source": [
        "plt.figure(figsize=(15,7))\n",
        "ax=sns.countplot(data=data, x=\"education\", hue=data.income)\n",
        "ax.set_xticklabels(ax.get_xticklabels(),rotation=60)\n",
        "plt.legend(['<=50K', '>50K'])\n",
        "plt.show()"
      ],
      "metadata": {
        "colab": {
          "base_uri": "https://localhost:8080/",
          "height": 621
        },
        "id": "yi34Jopwwq4L",
        "outputId": "41534968-2d3c-47a0-920b-0c241063d09a"
      },
      "execution_count": 38,
      "outputs": [
        {
          "output_type": "display_data",
          "data": {
            "text/plain": [
              "<Figure size 1500x700 with 1 Axes>"
            ],
            "image/png": "[encoded data removed]"
          },
          "metadata": {}
        }
      ]
    },
    {
      "cell_type": "markdown",
      "source": [
        "##Vizualization-11: marital-status vs income"
      ],
      "metadata": {
        "id": "Zacao4sKwwFT"
      }
    },
    {
      "cell_type": "code",
      "source": [
        "#print unique values in the column \"marital-status\"\n",
        "print(\"data['marital-status'].unique() =\\n\",  data['marital-status'].unique() )"
      ],
      "metadata": {
        "colab": {
          "base_uri": "https://localhost:8080/"
        },
        "id": "C_bESwEpwxkj",
        "outputId": "806805bf-1858-45b7-a943-db65a5ea8e30"
      },
      "execution_count": 39,
      "outputs": [
        {
          "output_type": "stream",
          "name": "stdout",
          "text": [
            "data['marital-status'].unique() =\n",
            " ['Never-married' 'Married-civ-spouse' 'Widowed' 'Divorced' 'Separated'\n",
            " 'Married-spouse-absent' 'Married-AF-spouse']\n"
          ]
        }
      ]
    },
    {
      "cell_type": "code",
      "source": [
        "plt.figure(figsize=(15,7))\n",
        "ax=sns.countplot(data=data, x = data['marital-status'], hue=data.income)\n",
        "plt.legend(['<=50K', '>50K'])\n",
        "plt.show()"
      ],
      "metadata": {
        "id": "wqM9rwuow_mz"
      },
      "execution_count": null,
      "outputs": []
    },
    {
      "cell_type": "markdown",
      "source": [
        "##Vizualization-12: occupation vs income"
      ],
      "metadata": {
        "id": "omO4aCgbxLnb"
      }
    },
    {
      "cell_type": "code",
      "source": [
        "#print unique values in the column \"occupation\"\n",
        "print(\"data.occupation.unique() =\\n\",  data.occupation.unique() )"
      ],
      "metadata": {
        "id": "0tFpK0PQxNGL"
      },
      "execution_count": null,
      "outputs": []
    },
    {
      "cell_type": "code",
      "source": [
        "plt.figure(figsize=(15,7))\n",
        "ax=sns.countplot(data=data, x=\"occupation\", hue=data.income)\n",
        "ax.set_xticklabels(ax.get_xticklabels(),rotation=60)\n",
        "plt.legend(['<=50K', '>50K'])\n",
        "plt.show()"
      ],
      "metadata": {
        "id": "rmFDTaFYxPS7"
      },
      "execution_count": null,
      "outputs": []
    },
    {
      "cell_type": "markdown",
      "source": [
        "##Vizualization-13: relationship vs income"
      ],
      "metadata": {
        "id": "XeNMz1MhxftJ"
      }
    },
    {
      "cell_type": "code",
      "source": [
        "#print unique values in the column \"relationship\"\n",
        "print(\"data.relationship.unique() =\\n\")\n",
        "print(data.relationship.unique())"
      ],
      "metadata": {
        "id": "lvYfM6brxg82"
      },
      "execution_count": null,
      "outputs": []
    },
    {
      "cell_type": "code",
      "source": [
        "plt.figure(figsize=(15,7))\n",
        "ax=sns.countplot(data=data, x=\"relationship\", hue=data.income)\n",
        "plt.legend(['<=50K', '>50K'])\n",
        "plt.show()"
      ],
      "metadata": {
        "id": "nk9f95cex-de"
      },
      "execution_count": null,
      "outputs": []
    },
    {
      "cell_type": "markdown",
      "source": [
        "##Vizualization-14: gender vs income"
      ],
      "metadata": {
        "id": "_6uRuYt1yJ6N"
      }
    },
    {
      "cell_type": "code",
      "source": [
        "#print unique values in the column \"gender\"\n",
        "print(\"data.gender.unique() =\\n\",  data.gender.unique() )"
      ],
      "metadata": {
        "colab": {
          "base_uri": "https://localhost:8080/"
        },
        "id": "Mm0dpOkfyLNb",
        "outputId": "aa4902a1-2f14-4331-d169-ee7d4069f390"
      },
      "execution_count": 48,
      "outputs": [
        {
          "output_type": "stream",
          "name": "stdout",
          "text": [
            "data.gender.unique() =\n",
            " ['Male' 'Female']\n"
          ]
        }
      ]
    },
    {
      "cell_type": "code",
      "source": [
        "plt.figure(figsize=(15,7))\n",
        "ax=sns.countplot(data=data, x=\"gender\", hue=data.income)\n",
        "plt.legend(['<=50K', '>50K'])\n",
        "plt.show()"
      ],
      "metadata": {
        "id": "8j-lhHtiyNDz"
      },
      "execution_count": null,
      "outputs": []
    },
    {
      "cell_type": "markdown",
      "source": [
        "##Vizualization-15: native-country vs income"
      ],
      "metadata": {
        "id": "hThI5vYUyX9c"
      }
    },
    {
      "cell_type": "code",
      "source": [
        "#print unique values in the column \"native-country\"\n",
        "print(\"data['native-country'].unique() =\\n\",  data['native-country'].unique())"
      ],
      "metadata": {
        "colab": {
          "base_uri": "https://localhost:8080/"
        },
        "id": "Swv69pfEyZLU",
        "outputId": "1974caa4-2583-44a8-daa7-4661931fb09a"
      },
      "execution_count": 50,
      "outputs": [
        {
          "output_type": "stream",
          "name": "stdout",
          "text": [
            "data['native-country'].unique() =\n",
            " ['United-States' '?' 'Peru' 'Guatemala' 'Mexico' 'Dominican-Republic'\n",
            " 'Ireland' 'Germany' 'Philippines' 'Thailand' 'Haiti' 'El-Salvador'\n",
            " 'Puerto-Rico' 'Vietnam' 'South' 'Columbia' 'Japan' 'India' 'Cambodia'\n",
            " 'Poland' 'Laos' 'England' 'Cuba' 'Taiwan' 'Italy' 'Canada' 'Portugal'\n",
            " 'China' 'Nicaragua' 'Honduras' 'Iran' 'Scotland' 'Jamaica' 'Ecuador'\n",
            " 'Yugoslavia' 'Hungary' 'Hong' 'Greece' 'Trinadad&Tobago'\n",
            " 'Outlying-US(Guam-USVI-etc)' 'France']\n"
          ]
        }
      ]
    },
    {
      "cell_type": "code",
      "source": [
        "plt.figure(figsize=(15,7))\n",
        "ax=sns.countplot(data=data, x='native-country', hue=data.income)\n",
        "ax.set_xticklabels(ax.get_xticklabels(),rotation=60)\n",
        "plt.legend(['<=50K', '>50K'])\n",
        "plt.show()"
      ],
      "metadata": {
        "id": "3SQQaU3vycFL"
      },
      "execution_count": null,
      "outputs": []
    },
    {
      "cell_type": "markdown",
      "source": [
        "##Data Preprocessing"
      ],
      "metadata": {
        "id": "rJInWZExyuGr"
      }
    },
    {
      "cell_type": "code",
      "source": [
        "#Split the data in x and y\n",
        "\n",
        "x=data.drop(['income'],axis=1)\n",
        "y=data.income"
      ],
      "metadata": {
        "id": "GTMERLK0yxyr"
      },
      "execution_count": 53,
      "outputs": []
    },
    {
      "cell_type": "code",
      "source": [
        "#print first 10 rows of x\n",
        "x.head(10)"
      ],
      "metadata": {
        "id": "M3UcBLn2y6Qc"
      },
      "execution_count": null,
      "outputs": []
    },
    {
      "cell_type": "markdown",
      "source": [
        "##Categorical data will converted into OneHotEncoding format"
      ],
      "metadata": {
        "id": "zskFGhpDzGvF"
      }
    },
    {
      "cell_type": "code",
      "source": [
        "x=pd.get_dummies(x)"
      ],
      "metadata": {
        "id": "HiYlYKoPzDgt"
      },
      "execution_count": 55,
      "outputs": []
    },
    {
      "cell_type": "code",
      "source": [
        "#Print the data after conversioon into OneHotEncoding\n",
        "x.head(10)"
      ],
      "metadata": {
        "id": "9NnANHmRzMe2"
      },
      "execution_count": null,
      "outputs": []
    },
    {
      "cell_type": "markdown",
      "source": [
        "##print the list of column names havin numerical values"
      ],
      "metadata": {
        "id": "_Gq3jZsuzaMV"
      }
    },
    {
      "cell_type": "code",
      "source": [
        "numericalcols=list(data.select_dtypes(exclude='object').columns)\n",
        "print( \"numericalcols = \", numericalcols)"
      ],
      "metadata": {
        "colab": {
          "base_uri": "https://localhost:8080/"
        },
        "id": "SUzF-xDDzbs9",
        "outputId": "49dd3802-9624-4960-a12f-d7b3179be681"
      },
      "execution_count": 57,
      "outputs": [
        {
          "output_type": "stream",
          "name": "stdout",
          "text": [
            "numericalcols =  ['age', 'fnlwgt', 'educational-num', 'capital-gain', 'capital-loss', 'hours-per-week', 'income']\n"
          ]
        }
      ]
    },
    {
      "cell_type": "markdown",
      "source": [
        "##To remove the last income column name from the list"
      ],
      "metadata": {
        "id": "XasYRg4aziCn"
      }
    },
    {
      "cell_type": "code",
      "source": [
        "numericalcols.pop()\n",
        "print( \"numericalcols = \", numericalcols)"
      ],
      "metadata": {
        "colab": {
          "base_uri": "https://localhost:8080/"
        },
        "id": "n2tPlplVzfob",
        "outputId": "8d0a051f-a650-43e7-e430-a988333255d7"
      },
      "execution_count": 58,
      "outputs": [
        {
          "output_type": "stream",
          "name": "stdout",
          "text": [
            "numericalcols =  ['age', 'fnlwgt', 'educational-num', 'capital-gain', 'capital-loss', 'hours-per-week']\n"
          ]
        }
      ]
    },
    {
      "cell_type": "markdown",
      "source": [
        "##Standardized the values of  numerical columns"
      ],
      "metadata": {
        "id": "z-Z-gVlSzv1c"
      }
    },
    {
      "cell_type": "code",
      "source": [
        "from sklearn.preprocessing import StandardScaler\n",
        "scaler=StandardScaler()\n",
        "x[numericalcols]=scaler.fit_transform(x[numericalcols])"
      ],
      "metadata": {
        "id": "-1IBZtbnzxFM"
      },
      "execution_count": 59,
      "outputs": []
    },
    {
      "cell_type": "code",
      "source": [
        "print(\"After StandardScaler: x.head() = \\n\")\n",
        "x.head()"
      ],
      "metadata": {
        "id": "aPrErW8_z5AT"
      },
      "execution_count": null,
      "outputs": []
    },
    {
      "cell_type": "markdown",
      "source": [
        "##Data Splitting into 70% of training data and 30% of testing data"
      ],
      "metadata": {
        "id": "h_NmC5eJz0TT"
      }
    },
    {
      "cell_type": "code",
      "source": [
        "x_train,x_test,y_trian,y_test=train_test_split(x,y,random_state=7,test_size=0.3)"
      ],
      "metadata": {
        "id": "ufdljXO70KM9"
      },
      "execution_count": 61,
      "outputs": []
    },
    {
      "cell_type": "markdown",
      "source": [
        "##Train the model-01: LogisticRegression Algoritmns"
      ],
      "metadata": {
        "id": "PGHAUior0OpW"
      }
    },
    {
      "cell_type": "code",
      "source": [
        "model=LogisticRegression()\n",
        "model.fit(x_train,y_trian)"
      ],
      "metadata": {
        "id": "fd9zTVN90QOe"
      },
      "execution_count": null,
      "outputs": []
    },
    {
      "cell_type": "markdown",
      "source": [
        "###First Method to print the accuracy of LogisticRegression Algorithm"
      ],
      "metadata": {
        "id": "rD8RAAiz0b9t"
      }
    },
    {
      "cell_type": "code",
      "source": [
        "\n",
        "accuracy_result =  model.score(x_test,y_test)\n",
        "print(\"Accuracy of LogisticRegression : \",  accuracy_result )"
      ],
      "metadata": {
        "colab": {
          "base_uri": "https://localhost:8080/"
        },
        "id": "qqZ6gY8J0XFF",
        "outputId": "c05960a6-f40c-4040-8f02-64b32247a1d8"
      },
      "execution_count": 65,
      "outputs": [
        {
          "output_type": "stream",
          "name": "stdout",
          "text": [
            "Accuracy of LogisticRegression :  0.8481802426343155\n"
          ]
        }
      ]
    },
    {
      "cell_type": "markdown",
      "source": [
        "###Second Method to print the accuracy of LogisticRegression Algorithm"
      ],
      "metadata": {
        "id": "VZx0Ajin0h9t"
      }
    },
    {
      "cell_type": "code",
      "source": [
        "y_predictL=model.predict(x_test)\n",
        "accuracy_result = accuracy_score(y_test,y_predictL)\n",
        "print(\"Accuracy of LogisticRegression : \",  accuracy_result )"
      ],
      "metadata": {
        "colab": {
          "base_uri": "https://localhost:8080/"
        },
        "id": "LAaul3-x0lSU",
        "outputId": "05c09e80-5f94-4e3f-a7bf-c749ead83dc8"
      },
      "execution_count": 64,
      "outputs": [
        {
          "output_type": "stream",
          "name": "stdout",
          "text": [
            "Accuracy of LogisticRegression :  0.8481802426343155\n"
          ]
        }
      ]
    },
    {
      "cell_type": "markdown",
      "source": [
        "###Vizualization-16: Performance of LogisticRegression"
      ],
      "metadata": {
        "id": "9DU-6fQ50yIc"
      }
    },
    {
      "cell_type": "code",
      "source": [
        "ax=sns.distplot(y_test,hist=False,label='Actual Values')\n",
        "ax=sns.distplot(y_predictL,hist=False,label='Predicted Values')\n",
        "ax.set_title('LogisticRegression')\n",
        "plt.legend()\n",
        "plt.show()"
      ],
      "metadata": {
        "id": "ZHHt5X_X00uk"
      },
      "execution_count": null,
      "outputs": []
    },
    {
      "cell_type": "markdown",
      "source": [
        "###Print the confusion_matrix for prediction accuracy of LogicsticRegression"
      ],
      "metadata": {
        "id": "gLdN5ibd06Cb"
      }
    },
    {
      "cell_type": "code",
      "source": [
        "matrix = confusion_matrix(y_test,y_predictL)\n",
        "print(\"confusion_matrix for prediction accuracy of LogicsticRegression = \\n\")\n",
        "matrix"
      ],
      "metadata": {
        "colab": {
          "base_uri": "https://localhost:8080/"
        },
        "id": "fS8eDNU309Ak",
        "outputId": "1f07123a-5651-4783-a51f-9a54bf39da2d"
      },
      "execution_count": 67,
      "outputs": [
        {
          "output_type": "stream",
          "name": "stdout",
          "text": [
            "confusion_matrix for prediction accuracy of LogicsticRegression = \n",
            "\n"
          ]
        },
        {
          "output_type": "execute_result",
          "data": {
            "text/plain": [
              "array([[2066,  149],\n",
              "       [ 289,  381]])"
            ]
          },
          "metadata": {},
          "execution_count": 67
        }
      ]
    },
    {
      "cell_type": "markdown",
      "source": [
        "###Vizualization-17: heatmap of confusion_matrix for LogicsticRegression"
      ],
      "metadata": {
        "id": "rvKOt4Xq1D-D"
      }
    },
    {
      "cell_type": "code",
      "source": [
        "sns.heatmap(confusion_matrix(y_test,y_predictL), annot=True, cmap='Blues')\n",
        "plt.show()"
      ],
      "metadata": {
        "id": "96hkPdiy1FTu"
      },
      "execution_count": null,
      "outputs": []
    },
    {
      "cell_type": "markdown",
      "source": [
        "##Train the model-02: SupportVectorClassifier Algoritmns"
      ],
      "metadata": {
        "id": "kKxvVV001mBV"
      }
    },
    {
      "cell_type": "code",
      "source": [
        "model=SVC()\n",
        "model.fit(x_train,y_trian)"
      ],
      "metadata": {
        "colab": {
          "base_uri": "https://localhost:8080/",
          "height": 74
        },
        "id": "y3snmbh31vHl",
        "outputId": "af95ab6d-31b3-4d84-86cf-066a6477c9a6"
      },
      "execution_count": 69,
      "outputs": [
        {
          "output_type": "execute_result",
          "data": {
            "text/plain": [
              "SVC()"
            ],
            "text/html": [
              "<style>#sk-container-id-2 {color: black;background-color: white;}#sk-container-id-2 pre{padding: 0;}#sk-container-id-2 div.sk-toggleable {background-color: white;}#sk-container-id-2 label.sk-toggleable__label {cursor: pointer;display: block;width: 100%;margin-bottom: 0;padding: 0.3em;box-sizing: border-box;text-align: center;}#sk-container-id-2 label.sk-toggleable__label-arrow:before {content: \"▸\";float: left;margin-right: 0.25em;color: #696969;}#sk-container-id-2 label.sk-toggleable__label-arrow:hover:before {color: black;}#sk-container-id-2 div.sk-estimator:hover label.sk-toggleable__label-arrow:before {color: black;}#sk-container-id-2 div.sk-toggleable__content {max-height: 0;max-width: 0;overflow: hidden;text-align: left;background-color: #f0f8ff;}#sk-container-id-2 div.sk-toggleable__content pre {margin: 0.2em;color: black;border-radius: 0.25em;background-color: #f0f8ff;}#sk-container-id-2 input.sk-toggleable__control:checked~div.sk-toggleable__content {max-height: 200px;max-width: 100%;overflow: auto;}#sk-container-id-2 input.sk-toggleable__control:checked~label.sk-toggleable__label-arrow:before {content: \"▾\";}#sk-container-id-2 div.sk-estimator input.sk-toggleable__control:checked~label.sk-toggleable__label {background-color: #d4ebff;}#sk-container-id-2 div.sk-label input.sk-toggleable__control:checked~label.sk-toggleable__label {background-color: #d4ebff;}#sk-container-id-2 input.sk-hidden--visually {border: 0;clip: rect(1px 1px 1px 1px);clip: rect(1px, 1px, 1px, 1px);height: 1px;margin: -1px;overflow: hidden;padding: 0;position: absolute;width: 1px;}#sk-container-id-2 div.sk-estimator {font-family: monospace;background-color: #f0f8ff;border: 1px dotted black;border-radius: 0.25em;box-sizing: border-box;margin-bottom: 0.5em;}#sk-container-id-2 div.sk-estimator:hover {background-color: #d4ebff;}#sk-container-id-2 div.sk-parallel-item::after {content: \"\";width: 100%;border-bottom: 1px solid gray;flex-grow: 1;}#sk-container-id-2 div.sk-label:hover label.sk-toggleable__label {background-color: #d4ebff;}#sk-container-id-2 div.sk-serial::before {content: \"\";position: absolute;border-left: 1px solid gray;box-sizing: border-box;top: 0;bottom: 0;left: 50%;z-index: 0;}#sk-container-id-2 div.sk-serial {display: flex;flex-direction: column;align-items: center;background-color: white;padding-right: 0.2em;padding-left: 0.2em;position: relative;}#sk-container-id-2 div.sk-item {position: relative;z-index: 1;}#sk-container-id-2 div.sk-parallel {display: flex;align-items: stretch;justify-content: center;background-color: white;position: relative;}#sk-container-id-2 div.sk-item::before, #sk-container-id-2 div.sk-parallel-item::before {content: \"\";position: absolute;border-left: 1px solid gray;box-sizing: border-box;top: 0;bottom: 0;left: 50%;z-index: -1;}#sk-container-id-2 div.sk-parallel-item {display: flex;flex-direction: column;z-index: 1;position: relative;background-color: white;}#sk-container-id-2 div.sk-parallel-item:first-child::after {align-self: flex-end;width: 50%;}#sk-container-id-2 div.sk-parallel-item:last-child::after {align-self: flex-start;width: 50%;}#sk-container-id-2 div.sk-parallel-item:only-child::after {width: 0;}#sk-container-id-2 div.sk-dashed-wrapped {border: 1px dashed gray;margin: 0 0.4em 0.5em 0.4em;box-sizing: border-box;padding-bottom: 0.4em;background-color: white;}#sk-container-id-2 div.sk-label label {font-family: monospace;font-weight: bold;display: inline-block;line-height: 1.2em;}#sk-container-id-2 div.sk-label-container {text-align: center;}#sk-container-id-2 div.sk-container {/* jupyter's `normalize.less` sets `[hidden] { display: none; }` but bootstrap.min.css set `[hidden] { display: none !important; }` so we also need the `!important` here to be able to override the default hidden behavior on the sphinx rendered scikit-learn.org. See: https://github.com/scikit-learn/scikit-learn/issues/21755 */display: inline-block !important;position: relative;}#sk-container-id-2 div.sk-text-repr-fallback {display: none;}</style><div id=\"sk-container-id-2\" class=\"sk-top-container\"><div class=\"sk-text-repr-fallback\"><pre>SVC()</pre><b>In a Jupyter environment, please rerun this cell to show the HTML representation or trust the notebook. <br />On GitHub, the HTML representation is unable to render, please try loading this page with nbviewer.org.</b></div><div class=\"sk-container\" hidden><div class=\"sk-item\"><div class=\"sk-estimator sk-toggleable\"><input class=\"sk-toggleable__control sk-hidden--visually\" id=\"sk-estimator-id-2\" type=\"checkbox\" checked><label for=\"sk-estimator-id-2\" class=\"sk-toggleable__label sk-toggleable__label-arrow\">SVC</label><div class=\"sk-toggleable__content\"><pre>SVC()</pre></div></div></div></div></div>"
            ]
          },
          "metadata": {},
          "execution_count": 69
        }
      ]
    },
    {
      "cell_type": "markdown",
      "source": [
        "###First Method to print the accuracy of SupportVectorClassifier Algorithm"
      ],
      "metadata": {
        "id": "29Ir026s10-d"
      }
    },
    {
      "cell_type": "code",
      "source": [
        "accuracy_result =  model.score(x_test,y_test)\n",
        "print(\"Accuracy of SupportVectorClassifier : \",  accuracy_result )"
      ],
      "metadata": {
        "colab": {
          "base_uri": "https://localhost:8080/"
        },
        "id": "vcEW62sc2Qe9",
        "outputId": "e3c40d9d-ea57-47c4-87f1-cd848cdced3b"
      },
      "execution_count": 70,
      "outputs": [
        {
          "output_type": "stream",
          "name": "stdout",
          "text": [
            "Accuracy of SupportVectorClassifier :  0.848526863084922\n"
          ]
        }
      ]
    },
    {
      "cell_type": "markdown",
      "source": [
        "###Second Method to print the accuracy of SupportVectorClassifier Algorithm"
      ],
      "metadata": {
        "id": "W_1M3m6C2S2G"
      }
    },
    {
      "cell_type": "code",
      "source": [
        "y_predicS=model.predict(x_test)\n",
        "accuracy_result = accuracy_score(y_test,y_predicS)\n",
        "print(\"Accuracy of SupportVectorClassifier : \",  accuracy_result )"
      ],
      "metadata": {
        "colab": {
          "base_uri": "https://localhost:8080/"
        },
        "id": "DL-KC7Tc2W1l",
        "outputId": "24a6ccd8-8838-485e-ad3a-17df7d198782"
      },
      "execution_count": 71,
      "outputs": [
        {
          "output_type": "stream",
          "name": "stdout",
          "text": [
            "Accuracy of SupportVectorClassifier :  0.848526863084922\n"
          ]
        }
      ]
    },
    {
      "cell_type": "markdown",
      "source": [
        "###Vizualization-18: Performance of SupportVectorClassifier"
      ],
      "metadata": {
        "id": "jsP7gmaG2up-"
      }
    },
    {
      "cell_type": "code",
      "source": [
        "ax=sns.distplot(y_test,hist=False,label='Actual Values')\n",
        "ax=sns.distplot(y_predicS,hist=False,label='Predicted Values')\n",
        "ax.set_title('SupportVectorClassifier')\n",
        "plt.legend()\n",
        "plt.show()"
      ],
      "metadata": {
        "colab": {
          "base_uri": "https://localhost:8080/",
          "height": 854
        },
        "id": "69W5jn4w2tre",
        "outputId": "2eac3db2-95b5-4820-84cc-926aa63bc310"
      },
      "execution_count": 72,
      "outputs": [
        {
          "output_type": "stream",
          "name": "stderr",
          "text": [
            "<ipython-input-72-8a52d347e00a>:1: UserWarning: \n",
            "\n",
            "`distplot` is a deprecated function and will be removed in seaborn v0.14.0.\n",
            "\n",
            "Please adapt your code to use either `displot` (a figure-level function with\n",
            "similar flexibility) or `kdeplot` (an axes-level function for kernel density plots).\n",
            "\n",
            "For a guide to updating your code to use the new functions, please see\n",
            "https://gist.github.com/mwaskom/de44147ed2974457ad6372750bbe5751\n",
            "\n",
            "  ax=sns.distplot(y_test,hist=False,label='Actual Values')\n",
            "<ipython-input-72-8a52d347e00a>:2: UserWarning: \n",
            "\n",
            "`distplot` is a deprecated function and will be removed in seaborn v0.14.0.\n",
            "\n",
            "Please adapt your code to use either `displot` (a figure-level function with\n",
            "similar flexibility) or `kdeplot` (an axes-level function for kernel density plots).\n",
            "\n",
            "For a guide to updating your code to use the new functions, please see\n",
            "https://gist.github.com/mwaskom/de44147ed2974457ad6372750bbe5751\n",
            "\n",
            "  ax=sns.distplot(y_predicS,hist=False,label='Predicted Values')\n"
          ]
        },
        {
          "output_type": "display_data",
          "data": {
            "text/plain": [
              "<Figure size 640x480 with 1 Axes>"
            ],
            "image/png": "[encoded data removed]"
          },
          "metadata": {}
        }
      ]
    },
    {
      "cell_type": "markdown",
      "source": [
        "###Print the confusion_matrix for prediction accuracy of SupportVectorClassifier"
      ],
      "metadata": {
        "id": "BCY5qlQl3iPt"
      }
    },
    {
      "cell_type": "code",
      "source": [
        "matrix = confusion_matrix(y_test,y_predictL)\n",
        "print(\"confusion_matrix for prediction accuracy of SupportVectorClassifier = \\n\")\n",
        "print(matrix)"
      ],
      "metadata": {
        "colab": {
          "base_uri": "https://localhost:8080/"
        },
        "id": "iJkHLVfX3qoO",
        "outputId": "b1798090-3de1-49be-8884-f76eba1e5da8"
      },
      "execution_count": 73,
      "outputs": [
        {
          "output_type": "stream",
          "name": "stdout",
          "text": [
            "confusion_matrix for prediction accuracy of SupportVectorClassifier = \n",
            "\n",
            "[[2066  149]\n",
            " [ 289  381]]\n"
          ]
        }
      ]
    },
    {
      "cell_type": "markdown",
      "source": [
        "###Vizualization-19: heatmap of confusion_matrix for SupportVectorClassifier"
      ],
      "metadata": {
        "id": "oteO25sZ3zGN"
      }
    },
    {
      "cell_type": "code",
      "source": [
        "sns.heatmap(confusion_matrix(y_test,y_predicS),annot=True,cmap='Blues')\n",
        "plt.show()"
      ],
      "metadata": {
        "id": "b4BkKXBl3wnX"
      },
      "execution_count": null,
      "outputs": []
    }
  ]
}